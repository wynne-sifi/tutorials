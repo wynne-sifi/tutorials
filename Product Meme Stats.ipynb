{
 "cells": [
  {
   "cell_type": "markdown",
   "id": "38b2a1ca",
   "metadata": {},
   "source": [
    "# Product Meme Stats\n",
    "\n",
    "Meme data was scraped from the Producti.fi channel in Slack over the past 6 Thursdays. For each meme we collected:\n",
    "- **Engagement** - The total number of emoji reactions\n",
    "- **Jody Score** - Combines scores of specific emojis as voted on by a sample of you the Product people (e.g. 1 Rofl is worth 9.43, 1 Retweet is worth 5.5...)\n",
    "\n",
    "The above metrics range from [0,21] and from [0,136.43]. Combining them the way they are is foolish. **Overall Score** normalizes both fields so that the mean of each is 0 and std dev is 1 thus enabling us to combine them."
   ]
  },
  {
   "cell_type": "markdown",
   "id": "c42ffaef",
   "metadata": {},
   "source": [
    "# Meme Leaderboard"
   ]
  },
  {
   "cell_type": "code",
   "execution_count": 125,
   "id": "2767c856",
   "metadata": {},
   "outputs": [
    {
     "data": {
      "text/html": [
       "<div>\n",
       "<style scoped>\n",
       "    .dataframe tbody tr th:only-of-type {\n",
       "        vertical-align: middle;\n",
       "    }\n",
       "\n",
       "    .dataframe tbody tr th {\n",
       "        vertical-align: top;\n",
       "    }\n",
       "\n",
       "    .dataframe thead th {\n",
       "        text-align: right;\n",
       "    }\n",
       "</style>\n",
       "<table border=\"1\" class=\"dataframe\">\n",
       "  <thead>\n",
       "    <tr style=\"text-align: right;\">\n",
       "      <th></th>\n",
       "      <th>Jody Score</th>\n",
       "      <th>Engagement</th>\n",
       "      <th>Overall Score</th>\n",
       "      <th>count</th>\n",
       "    </tr>\n",
       "    <tr>\n",
       "      <th>Teammate</th>\n",
       "      <th></th>\n",
       "      <th></th>\n",
       "      <th></th>\n",
       "      <th></th>\n",
       "    </tr>\n",
       "  </thead>\n",
       "  <tbody>\n",
       "    <tr>\n",
       "      <th>Karen Williams</th>\n",
       "      <td>91.710000</td>\n",
       "      <td>21.000000</td>\n",
       "      <td>6.214775</td>\n",
       "      <td>1.0</td>\n",
       "    </tr>\n",
       "    <tr>\n",
       "      <th>Jeremy Bates</th>\n",
       "      <td>56.140000</td>\n",
       "      <td>16.000000</td>\n",
       "      <td>3.540821</td>\n",
       "      <td>1.0</td>\n",
       "    </tr>\n",
       "    <tr>\n",
       "      <th>Wynne Philpott</th>\n",
       "      <td>62.142857</td>\n",
       "      <td>13.000000</td>\n",
       "      <td>2.969133</td>\n",
       "      <td>1.0</td>\n",
       "    </tr>\n",
       "    <tr>\n",
       "      <th>Chastity</th>\n",
       "      <td>77.428571</td>\n",
       "      <td>10.000000</td>\n",
       "      <td>2.748013</td>\n",
       "      <td>1.0</td>\n",
       "    </tr>\n",
       "    <tr>\n",
       "      <th>Michael Haydel</th>\n",
       "      <td>64.327400</td>\n",
       "      <td>9.600000</td>\n",
       "      <td>2.146793</td>\n",
       "      <td>5.0</td>\n",
       "    </tr>\n",
       "    <tr>\n",
       "      <th>Hawk Swearingen</th>\n",
       "      <td>61.430000</td>\n",
       "      <td>10.000000</td>\n",
       "      <td>2.143824</td>\n",
       "      <td>1.0</td>\n",
       "    </tr>\n",
       "    <tr>\n",
       "      <th>Josh Lehman</th>\n",
       "      <td>40.750000</td>\n",
       "      <td>12.500000</td>\n",
       "      <td>2.028162</td>\n",
       "      <td>2.0</td>\n",
       "    </tr>\n",
       "    <tr>\n",
       "      <th>Ashleigh Dietz</th>\n",
       "      <td>54.999524</td>\n",
       "      <td>8.333333</td>\n",
       "      <td>1.457427</td>\n",
       "      <td>3.0</td>\n",
       "    </tr>\n",
       "    <tr>\n",
       "      <th>Michael Coulter</th>\n",
       "      <td>41.430000</td>\n",
       "      <td>10.000000</td>\n",
       "      <td>1.388520</td>\n",
       "      <td>1.0</td>\n",
       "    </tr>\n",
       "    <tr>\n",
       "      <th>Simone Henderson</th>\n",
       "      <td>54.941829</td>\n",
       "      <td>7.400000</td>\n",
       "      <td>1.206861</td>\n",
       "      <td>5.0</td>\n",
       "    </tr>\n",
       "    <tr>\n",
       "      <th>Chastity Burrell</th>\n",
       "      <td>42.380000</td>\n",
       "      <td>8.000000</td>\n",
       "      <td>0.892138</td>\n",
       "      <td>3.0</td>\n",
       "    </tr>\n",
       "    <tr>\n",
       "      <th>Colleen Schwab</th>\n",
       "      <td>47.499911</td>\n",
       "      <td>6.500000</td>\n",
       "      <td>0.686299</td>\n",
       "      <td>16.0</td>\n",
       "    </tr>\n",
       "    <tr>\n",
       "      <th>Ausmone</th>\n",
       "      <td>43.571429</td>\n",
       "      <td>7.000000</td>\n",
       "      <td>0.671004</td>\n",
       "      <td>1.0</td>\n",
       "    </tr>\n",
       "    <tr>\n",
       "      <th>Grace Ann Lile</th>\n",
       "      <td>44.927500</td>\n",
       "      <td>6.500000</td>\n",
       "      <td>0.589152</td>\n",
       "      <td>4.0</td>\n",
       "    </tr>\n",
       "    <tr>\n",
       "      <th>Cheyenne McCoy</th>\n",
       "      <td>37.393179</td>\n",
       "      <td>7.000000</td>\n",
       "      <td>0.437681</td>\n",
       "      <td>4.0</td>\n",
       "    </tr>\n",
       "    <tr>\n",
       "      <th>Austin Mays</th>\n",
       "      <td>36.425000</td>\n",
       "      <td>6.500000</td>\n",
       "      <td>0.268053</td>\n",
       "      <td>2.0</td>\n",
       "    </tr>\n",
       "    <tr>\n",
       "      <th>Erica Sutherland</th>\n",
       "      <td>36.357000</td>\n",
       "      <td>6.500000</td>\n",
       "      <td>0.265485</td>\n",
       "      <td>4.0</td>\n",
       "    </tr>\n",
       "    <tr>\n",
       "      <th>GA</th>\n",
       "      <td>38.285714</td>\n",
       "      <td>6.000000</td>\n",
       "      <td>0.205259</td>\n",
       "      <td>1.0</td>\n",
       "    </tr>\n",
       "    <tr>\n",
       "      <th>Will Gaffney</th>\n",
       "      <td>36.874249</td>\n",
       "      <td>6.028571</td>\n",
       "      <td>0.159558</td>\n",
       "      <td>35.0</td>\n",
       "    </tr>\n",
       "    <tr>\n",
       "      <th>Hawk</th>\n",
       "      <td>27.857143</td>\n",
       "      <td>7.000000</td>\n",
       "      <td>0.077551</td>\n",
       "      <td>1.0</td>\n",
       "    </tr>\n",
       "    <tr>\n",
       "      <th>Alex Allen</th>\n",
       "      <td>37.140000</td>\n",
       "      <td>5.000000</td>\n",
       "      <td>-0.104139</td>\n",
       "      <td>1.0</td>\n",
       "    </tr>\n",
       "    <tr>\n",
       "      <th>Stephen Henderson</th>\n",
       "      <td>28.600526</td>\n",
       "      <td>6.000000</td>\n",
       "      <td>-0.160505</td>\n",
       "      <td>19.0</td>\n",
       "    </tr>\n",
       "    <tr>\n",
       "      <th>Darah Pereira</th>\n",
       "      <td>30.750000</td>\n",
       "      <td>5.500000</td>\n",
       "      <td>-0.212394</td>\n",
       "      <td>2.0</td>\n",
       "    </tr>\n",
       "    <tr>\n",
       "      <th>Bailey Rhodes</th>\n",
       "      <td>28.224836</td>\n",
       "      <td>5.851852</td>\n",
       "      <td>-0.214119</td>\n",
       "      <td>27.0</td>\n",
       "    </tr>\n",
       "    <tr>\n",
       "      <th>Jody Oliverson</th>\n",
       "      <td>23.170000</td>\n",
       "      <td>6.200000</td>\n",
       "      <td>-0.312364</td>\n",
       "      <td>10.0</td>\n",
       "    </tr>\n",
       "    <tr>\n",
       "      <th>Robert Graham</th>\n",
       "      <td>34.499500</td>\n",
       "      <td>4.500000</td>\n",
       "      <td>-0.336922</td>\n",
       "      <td>2.0</td>\n",
       "    </tr>\n",
       "    <tr>\n",
       "      <th>Kimberly Voltaire</th>\n",
       "      <td>29.304970</td>\n",
       "      <td>4.884615</td>\n",
       "      <td>-0.430737</td>\n",
       "      <td>52.0</td>\n",
       "    </tr>\n",
       "    <tr>\n",
       "      <th>Stimone</th>\n",
       "      <td>31.500000</td>\n",
       "      <td>4.500000</td>\n",
       "      <td>-0.450199</td>\n",
       "      <td>2.0</td>\n",
       "    </tr>\n",
       "    <tr>\n",
       "      <th>Eric Hyland</th>\n",
       "      <td>26.619077</td>\n",
       "      <td>4.416667</td>\n",
       "      <td>-0.656706</td>\n",
       "      <td>24.0</td>\n",
       "    </tr>\n",
       "    <tr>\n",
       "      <th>Jim Walther</th>\n",
       "      <td>20.942500</td>\n",
       "      <td>4.600000</td>\n",
       "      <td>-0.822292</td>\n",
       "      <td>20.0</td>\n",
       "    </tr>\n",
       "    <tr>\n",
       "      <th>Wes Benwick</th>\n",
       "      <td>15.857143</td>\n",
       "      <td>3.000000</td>\n",
       "      <td>-1.440149</td>\n",
       "      <td>1.0</td>\n",
       "    </tr>\n",
       "  </tbody>\n",
       "</table>\n",
       "</div>"
      ],
      "text/plain": [
       "                   Jody Score  Engagement  Overall Score  count\n",
       "Teammate                                                       \n",
       "Karen Williams      91.710000   21.000000       6.214775    1.0\n",
       "Jeremy Bates        56.140000   16.000000       3.540821    1.0\n",
       "Wynne Philpott      62.142857   13.000000       2.969133    1.0\n",
       "Chastity            77.428571   10.000000       2.748013    1.0\n",
       "Michael Haydel      64.327400    9.600000       2.146793    5.0\n",
       "Hawk Swearingen     61.430000   10.000000       2.143824    1.0\n",
       "Josh Lehman         40.750000   12.500000       2.028162    2.0\n",
       "Ashleigh Dietz      54.999524    8.333333       1.457427    3.0\n",
       "Michael Coulter     41.430000   10.000000       1.388520    1.0\n",
       "Simone Henderson    54.941829    7.400000       1.206861    5.0\n",
       "Chastity Burrell    42.380000    8.000000       0.892138    3.0\n",
       "Colleen Schwab      47.499911    6.500000       0.686299   16.0\n",
       "Ausmone             43.571429    7.000000       0.671004    1.0\n",
       "Grace Ann Lile      44.927500    6.500000       0.589152    4.0\n",
       "Cheyenne McCoy      37.393179    7.000000       0.437681    4.0\n",
       "Austin Mays         36.425000    6.500000       0.268053    2.0\n",
       "Erica Sutherland    36.357000    6.500000       0.265485    4.0\n",
       "GA                  38.285714    6.000000       0.205259    1.0\n",
       "Will Gaffney        36.874249    6.028571       0.159558   35.0\n",
       "Hawk                27.857143    7.000000       0.077551    1.0\n",
       "Alex Allen          37.140000    5.000000      -0.104139    1.0\n",
       "Stephen Henderson   28.600526    6.000000      -0.160505   19.0\n",
       "Darah Pereira       30.750000    5.500000      -0.212394    2.0\n",
       "Bailey Rhodes       28.224836    5.851852      -0.214119   27.0\n",
       "Jody Oliverson      23.170000    6.200000      -0.312364   10.0\n",
       "Robert Graham       34.499500    4.500000      -0.336922    2.0\n",
       "Kimberly Voltaire   29.304970    4.884615      -0.430737   52.0\n",
       "Stimone             31.500000    4.500000      -0.450199    2.0\n",
       "Eric Hyland         26.619077    4.416667      -0.656706   24.0\n",
       "Jim Walther         20.942500    4.600000      -0.822292   20.0\n",
       "Wes Benwick         15.857143    3.000000      -1.440149    1.0"
      ]
     },
     "execution_count": 125,
     "metadata": {},
     "output_type": "execute_result"
    }
   ],
   "source": [
    "df.drop(['Score_Scale','Eng_Score'],axis=1).groupby('Teammate').mean().sort_values('Overall Score',ascending=False)"
   ]
  },
  {
   "cell_type": "markdown",
   "id": "a0486587",
   "metadata": {},
   "source": [
    "# People who actually put themselves out there"
   ]
  },
  {
   "cell_type": "code",
   "execution_count": 126,
   "id": "767374ae",
   "metadata": {},
   "outputs": [],
   "source": [
    "## Only grab teammates that posted more than 1 meme\n",
    "df_filter =  df.groupby('Teammate').filter(lambda x : len(x)>1)"
   ]
  },
  {
   "cell_type": "code",
   "execution_count": 127,
   "id": "67178331",
   "metadata": {},
   "outputs": [
    {
     "data": {
      "text/html": [
       "<div>\n",
       "<style scoped>\n",
       "    .dataframe tbody tr th:only-of-type {\n",
       "        vertical-align: middle;\n",
       "    }\n",
       "\n",
       "    .dataframe tbody tr th {\n",
       "        vertical-align: top;\n",
       "    }\n",
       "\n",
       "    .dataframe thead th {\n",
       "        text-align: right;\n",
       "    }\n",
       "</style>\n",
       "<table border=\"1\" class=\"dataframe\">\n",
       "  <thead>\n",
       "    <tr style=\"text-align: right;\">\n",
       "      <th></th>\n",
       "      <th>Jody Score</th>\n",
       "      <th>Engagement</th>\n",
       "      <th>Overall Score</th>\n",
       "      <th>count</th>\n",
       "    </tr>\n",
       "    <tr>\n",
       "      <th>Teammate</th>\n",
       "      <th></th>\n",
       "      <th></th>\n",
       "      <th></th>\n",
       "      <th></th>\n",
       "    </tr>\n",
       "  </thead>\n",
       "  <tbody>\n",
       "    <tr>\n",
       "      <th>Michael Haydel</th>\n",
       "      <td>64.327400</td>\n",
       "      <td>9.600000</td>\n",
       "      <td>2.146793</td>\n",
       "      <td>5.0</td>\n",
       "    </tr>\n",
       "    <tr>\n",
       "      <th>Josh Lehman</th>\n",
       "      <td>40.750000</td>\n",
       "      <td>12.500000</td>\n",
       "      <td>2.028162</td>\n",
       "      <td>2.0</td>\n",
       "    </tr>\n",
       "    <tr>\n",
       "      <th>Ashleigh Dietz</th>\n",
       "      <td>54.999524</td>\n",
       "      <td>8.333333</td>\n",
       "      <td>1.457427</td>\n",
       "      <td>3.0</td>\n",
       "    </tr>\n",
       "    <tr>\n",
       "      <th>Simone Henderson</th>\n",
       "      <td>54.941829</td>\n",
       "      <td>7.400000</td>\n",
       "      <td>1.206861</td>\n",
       "      <td>5.0</td>\n",
       "    </tr>\n",
       "    <tr>\n",
       "      <th>Chastity Burrell</th>\n",
       "      <td>42.380000</td>\n",
       "      <td>8.000000</td>\n",
       "      <td>0.892138</td>\n",
       "      <td>3.0</td>\n",
       "    </tr>\n",
       "    <tr>\n",
       "      <th>Colleen Schwab</th>\n",
       "      <td>47.499911</td>\n",
       "      <td>6.500000</td>\n",
       "      <td>0.686299</td>\n",
       "      <td>16.0</td>\n",
       "    </tr>\n",
       "    <tr>\n",
       "      <th>Grace Ann Lile</th>\n",
       "      <td>44.927500</td>\n",
       "      <td>6.500000</td>\n",
       "      <td>0.589152</td>\n",
       "      <td>4.0</td>\n",
       "    </tr>\n",
       "    <tr>\n",
       "      <th>Cheyenne McCoy</th>\n",
       "      <td>37.393179</td>\n",
       "      <td>7.000000</td>\n",
       "      <td>0.437681</td>\n",
       "      <td>4.0</td>\n",
       "    </tr>\n",
       "    <tr>\n",
       "      <th>Austin Mays</th>\n",
       "      <td>36.425000</td>\n",
       "      <td>6.500000</td>\n",
       "      <td>0.268053</td>\n",
       "      <td>2.0</td>\n",
       "    </tr>\n",
       "    <tr>\n",
       "      <th>Erica Sutherland</th>\n",
       "      <td>36.357000</td>\n",
       "      <td>6.500000</td>\n",
       "      <td>0.265485</td>\n",
       "      <td>4.0</td>\n",
       "    </tr>\n",
       "    <tr>\n",
       "      <th>Will Gaffney</th>\n",
       "      <td>36.874249</td>\n",
       "      <td>6.028571</td>\n",
       "      <td>0.159558</td>\n",
       "      <td>35.0</td>\n",
       "    </tr>\n",
       "    <tr>\n",
       "      <th>Stephen Henderson</th>\n",
       "      <td>28.600526</td>\n",
       "      <td>6.000000</td>\n",
       "      <td>-0.160505</td>\n",
       "      <td>19.0</td>\n",
       "    </tr>\n",
       "    <tr>\n",
       "      <th>Darah Pereira</th>\n",
       "      <td>30.750000</td>\n",
       "      <td>5.500000</td>\n",
       "      <td>-0.212394</td>\n",
       "      <td>2.0</td>\n",
       "    </tr>\n",
       "    <tr>\n",
       "      <th>Bailey Rhodes</th>\n",
       "      <td>28.224836</td>\n",
       "      <td>5.851852</td>\n",
       "      <td>-0.214119</td>\n",
       "      <td>27.0</td>\n",
       "    </tr>\n",
       "    <tr>\n",
       "      <th>Jody Oliverson</th>\n",
       "      <td>23.170000</td>\n",
       "      <td>6.200000</td>\n",
       "      <td>-0.312364</td>\n",
       "      <td>10.0</td>\n",
       "    </tr>\n",
       "    <tr>\n",
       "      <th>Robert Graham</th>\n",
       "      <td>34.499500</td>\n",
       "      <td>4.500000</td>\n",
       "      <td>-0.336922</td>\n",
       "      <td>2.0</td>\n",
       "    </tr>\n",
       "    <tr>\n",
       "      <th>Kimberly Voltaire</th>\n",
       "      <td>29.304970</td>\n",
       "      <td>4.884615</td>\n",
       "      <td>-0.430737</td>\n",
       "      <td>52.0</td>\n",
       "    </tr>\n",
       "    <tr>\n",
       "      <th>Stimone</th>\n",
       "      <td>31.500000</td>\n",
       "      <td>4.500000</td>\n",
       "      <td>-0.450199</td>\n",
       "      <td>2.0</td>\n",
       "    </tr>\n",
       "    <tr>\n",
       "      <th>Eric Hyland</th>\n",
       "      <td>26.619077</td>\n",
       "      <td>4.416667</td>\n",
       "      <td>-0.656706</td>\n",
       "      <td>24.0</td>\n",
       "    </tr>\n",
       "    <tr>\n",
       "      <th>Jim Walther</th>\n",
       "      <td>20.942500</td>\n",
       "      <td>4.600000</td>\n",
       "      <td>-0.822292</td>\n",
       "      <td>20.0</td>\n",
       "    </tr>\n",
       "  </tbody>\n",
       "</table>\n",
       "</div>"
      ],
      "text/plain": [
       "                   Jody Score  Engagement  Overall Score  count\n",
       "Teammate                                                       \n",
       "Michael Haydel      64.327400    9.600000       2.146793    5.0\n",
       "Josh Lehman         40.750000   12.500000       2.028162    2.0\n",
       "Ashleigh Dietz      54.999524    8.333333       1.457427    3.0\n",
       "Simone Henderson    54.941829    7.400000       1.206861    5.0\n",
       "Chastity Burrell    42.380000    8.000000       0.892138    3.0\n",
       "Colleen Schwab      47.499911    6.500000       0.686299   16.0\n",
       "Grace Ann Lile      44.927500    6.500000       0.589152    4.0\n",
       "Cheyenne McCoy      37.393179    7.000000       0.437681    4.0\n",
       "Austin Mays         36.425000    6.500000       0.268053    2.0\n",
       "Erica Sutherland    36.357000    6.500000       0.265485    4.0\n",
       "Will Gaffney        36.874249    6.028571       0.159558   35.0\n",
       "Stephen Henderson   28.600526    6.000000      -0.160505   19.0\n",
       "Darah Pereira       30.750000    5.500000      -0.212394    2.0\n",
       "Bailey Rhodes       28.224836    5.851852      -0.214119   27.0\n",
       "Jody Oliverson      23.170000    6.200000      -0.312364   10.0\n",
       "Robert Graham       34.499500    4.500000      -0.336922    2.0\n",
       "Kimberly Voltaire   29.304970    4.884615      -0.430737   52.0\n",
       "Stimone             31.500000    4.500000      -0.450199    2.0\n",
       "Eric Hyland         26.619077    4.416667      -0.656706   24.0\n",
       "Jim Walther         20.942500    4.600000      -0.822292   20.0"
      ]
     },
     "execution_count": 127,
     "metadata": {},
     "output_type": "execute_result"
    }
   ],
   "source": [
    "df_filter.drop(['Score_Scale','Eng_Score'],axis=1).groupby('Teammate').mean().sort_values('Overall Score',ascending=False)"
   ]
  },
  {
   "cell_type": "markdown",
   "id": "9a77228e",
   "metadata": {},
   "source": [
    "# Who posts the most memes?"
   ]
  },
  {
   "cell_type": "code",
   "execution_count": 108,
   "id": "09d7748a",
   "metadata": {},
   "outputs": [
    {
     "data": {
      "text/plain": [
       "0    Kimberly Voltaire\n",
       "dtype: object"
      ]
     },
     "execution_count": 108,
     "metadata": {},
     "output_type": "execute_result"
    }
   ],
   "source": [
    "df['Teammate'].mode()"
   ]
  },
  {
   "cell_type": "code",
   "execution_count": 109,
   "id": "11aed31e",
   "metadata": {},
   "outputs": [
    {
     "data": {
      "text/plain": [
       "Kimberly Voltaire    52\n",
       "Will Gaffney         35\n",
       "Bailey Rhodes        27\n",
       "Eric Hyland          24\n",
       "Jim Walther          20\n",
       "Name: Teammate, dtype: int64"
      ]
     },
     "execution_count": 109,
     "metadata": {},
     "output_type": "execute_result"
    }
   ],
   "source": [
    "df['Teammate'].value_counts().head(5)"
   ]
  },
  {
   "cell_type": "markdown",
   "id": "bcf9a33a",
   "metadata": {},
   "source": [
    "# Who has the highest average Jody Score per meme?"
   ]
  },
  {
   "cell_type": "code",
   "execution_count": 112,
   "id": "0f46b642",
   "metadata": {},
   "outputs": [
    {
     "data": {
      "text/plain": [
       "Teammate\n",
       "Karen Williams     91.710000\n",
       "Chastity           77.428571\n",
       "Michael Haydel     64.327400\n",
       "Wynne Philpott     62.142857\n",
       "Hawk Swearingen    61.430000\n",
       "Name: Jody Score, dtype: float64"
      ]
     },
     "execution_count": 112,
     "metadata": {},
     "output_type": "execute_result"
    }
   ],
   "source": [
    "## Unfiltered view\n",
    "df.groupby('Teammate').mean()['Jody Score'].sort_values(ascending=False).head(5)"
   ]
  },
  {
   "cell_type": "code",
   "execution_count": 113,
   "id": "8b4f204f",
   "metadata": {},
   "outputs": [
    {
     "data": {
      "text/plain": [
       "Teammate\n",
       "Michael Haydel      64.327400\n",
       "Ashleigh Dietz      54.999524\n",
       "Simone Henderson    54.941829\n",
       "Colleen Schwab      47.499911\n",
       "Grace Ann Lile      44.927500\n",
       "Name: Jody Score, dtype: float64"
      ]
     },
     "execution_count": 113,
     "metadata": {},
     "output_type": "execute_result"
    }
   ],
   "source": [
    "## People with more than 1 meme\n",
    "df_filter.groupby('Teammate').mean()['Jody Score'].sort_values(ascending=False).head(5)"
   ]
  },
  {
   "cell_type": "markdown",
   "id": "19af9f6d",
   "metadata": {},
   "source": [
    "# Who has the highest average engagement (# combined emojis) per meme?"
   ]
  },
  {
   "cell_type": "code",
   "execution_count": 114,
   "id": "01a68092",
   "metadata": {},
   "outputs": [
    {
     "data": {
      "text/plain": [
       "Teammate\n",
       "Karen Williams     21.0\n",
       "Jeremy Bates       16.0\n",
       "Wynne Philpott     13.0\n",
       "Josh Lehman        12.5\n",
       "Michael Coulter    10.0\n",
       "Name: Engagement, dtype: float64"
      ]
     },
     "execution_count": 114,
     "metadata": {},
     "output_type": "execute_result"
    }
   ],
   "source": [
    "## Unfiltered view\n",
    "df.groupby('Teammate').mean()['Engagement'].sort_values(ascending=False).head(5)"
   ]
  },
  {
   "cell_type": "code",
   "execution_count": 115,
   "id": "a1b35cf2",
   "metadata": {},
   "outputs": [
    {
     "data": {
      "text/plain": [
       "Teammate\n",
       "Josh Lehman         12.500000\n",
       "Michael Haydel       9.600000\n",
       "Ashleigh Dietz       8.333333\n",
       "Chastity Burrell     8.000000\n",
       "Simone Henderson     7.400000\n",
       "Name: Engagement, dtype: float64"
      ]
     },
     "execution_count": 115,
     "metadata": {},
     "output_type": "execute_result"
    }
   ],
   "source": [
    "## People with more than 1 meme\n",
    "df_filter.groupby('Teammate').mean()['Engagement'].sort_values(ascending=False).head(5)"
   ]
  },
  {
   "cell_type": "markdown",
   "id": "6a8985a9",
   "metadata": {},
   "source": [
    "# What is the highest anyone has ever Jody-scored on a meme?"
   ]
  },
  {
   "cell_type": "code",
   "execution_count": 120,
   "id": "ce0eac9d",
   "metadata": {},
   "outputs": [
    {
     "data": {
      "text/html": [
       "<div>\n",
       "<style scoped>\n",
       "    .dataframe tbody tr th:only-of-type {\n",
       "        vertical-align: middle;\n",
       "    }\n",
       "\n",
       "    .dataframe tbody tr th {\n",
       "        vertical-align: top;\n",
       "    }\n",
       "\n",
       "    .dataframe thead th {\n",
       "        text-align: right;\n",
       "    }\n",
       "</style>\n",
       "<table border=\"1\" class=\"dataframe\">\n",
       "  <thead>\n",
       "    <tr style=\"text-align: right;\">\n",
       "      <th></th>\n",
       "      <th>Teammate</th>\n",
       "      <th>Desc</th>\n",
       "      <th>Jody Score</th>\n",
       "      <th>Engagement</th>\n",
       "    </tr>\n",
       "  </thead>\n",
       "  <tbody>\n",
       "    <tr>\n",
       "      <th>35</th>\n",
       "      <td>Will Gaffney</td>\n",
       "      <td>Mony Python work</td>\n",
       "      <td>136.43</td>\n",
       "      <td>18</td>\n",
       "    </tr>\n",
       "  </tbody>\n",
       "</table>\n",
       "</div>"
      ],
      "text/plain": [
       "        Teammate              Desc  Jody Score  Engagement\n",
       "35  Will Gaffney  Mony Python work      136.43          18"
      ]
     },
     "execution_count": 120,
     "metadata": {},
     "output_type": "execute_result"
    }
   ],
   "source": [
    "df[df['Jody Score'] == df['Jody Score'].max()]"
   ]
  },
  {
   "cell_type": "markdown",
   "id": "ed077ddc",
   "metadata": {},
   "source": [
    "# Who posted the meme that has the most emoji reactions?"
   ]
  },
  {
   "cell_type": "code",
   "execution_count": 90,
   "id": "879db474",
   "metadata": {},
   "outputs": [
    {
     "data": {
      "text/html": [
       "<div>\n",
       "<style scoped>\n",
       "    .dataframe tbody tr th:only-of-type {\n",
       "        vertical-align: middle;\n",
       "    }\n",
       "\n",
       "    .dataframe tbody tr th {\n",
       "        vertical-align: top;\n",
       "    }\n",
       "\n",
       "    .dataframe thead th {\n",
       "        text-align: right;\n",
       "    }\n",
       "</style>\n",
       "<table border=\"1\" class=\"dataframe\">\n",
       "  <thead>\n",
       "    <tr style=\"text-align: right;\">\n",
       "      <th></th>\n",
       "      <th>Teammate</th>\n",
       "      <th>Desc</th>\n",
       "      <th>Score</th>\n",
       "      <th>Engagement</th>\n",
       "    </tr>\n",
       "  </thead>\n",
       "  <tbody>\n",
       "    <tr>\n",
       "      <th>29</th>\n",
       "      <td>Karen Williams</td>\n",
       "      <td>brady bunch</td>\n",
       "      <td>91.71</td>\n",
       "      <td>21</td>\n",
       "    </tr>\n",
       "  </tbody>\n",
       "</table>\n",
       "</div>"
      ],
      "text/plain": [
       "          Teammate         Desc  Score  Engagement\n",
       "29  Karen Williams  brady bunch  91.71          21"
      ]
     },
     "execution_count": 90,
     "metadata": {},
     "output_type": "execute_result"
    }
   ],
   "source": [
    "df[df['Engagement'] == df.Engagement.max()]"
   ]
  },
  {
   "cell_type": "markdown",
   "id": "3ce197f1",
   "metadata": {},
   "source": [
    "# Normalization\n",
    "Scale groups to make combined score.\n"
   ]
  },
  {
   "cell_type": "code",
   "execution_count": null,
   "id": "ae2bed4c",
   "metadata": {},
   "outputs": [],
   "source": [
    "import pandas as pd\n",
    "import numpy as np\n",
    "\n",
    "df = pd.read_excel('/Users/wynnephilpott/Documents/Missing Pauldron/Notebooks/Misc Shit/Meme Stats.xlsx')"
   ]
  },
  {
   "cell_type": "code",
   "execution_count": 121,
   "id": "a08b71f3",
   "metadata": {},
   "outputs": [],
   "source": [
    "import pandas as pd\n",
    "from sklearn.preprocessing import StandardScaler\n",
    "import seaborn as sns\n",
    "\n",
    "std_scaler = StandardScaler()\n",
    "\n",
    "df_scaled = std_scaler.fit_transform(df[['Jody Score','Engagement']])\n",
    "df_scaled = pd.DataFrame(df_scaled, columns=['Score_Scale','Eng_Score'])"
   ]
  },
  {
   "cell_type": "code",
   "execution_count": 122,
   "id": "08d55c0a",
   "metadata": {},
   "outputs": [],
   "source": [
    "df = pd.concat([df,df_scaled],axis=1)"
   ]
  },
  {
   "cell_type": "code",
   "execution_count": 123,
   "id": "e75e044c",
   "metadata": {},
   "outputs": [],
   "source": [
    "df['Overall Score'] = df['Score_Scale'] + df['Eng_Score']"
   ]
  },
  {
   "cell_type": "code",
   "execution_count": 124,
   "id": "ff7fb315",
   "metadata": {},
   "outputs": [],
   "source": [
    "## Add meme count field\n",
    "df['count'] = df.groupby('Teammate')['Teammate'].transform('count')"
   ]
  },
  {
   "cell_type": "code",
   "execution_count": null,
   "id": "4439e1f2",
   "metadata": {},
   "outputs": [],
   "source": []
  }
 ],
 "metadata": {
  "kernelspec": {
   "display_name": "Python 3 (ipykernel)",
   "language": "python",
   "name": "python3"
  },
  "language_info": {
   "codemirror_mode": {
    "name": "ipython",
    "version": 3
   },
   "file_extension": ".py",
   "mimetype": "text/x-python",
   "name": "python",
   "nbconvert_exporter": "python",
   "pygments_lexer": "ipython3",
   "version": "3.9.7"
  }
 },
 "nbformat": 4,
 "nbformat_minor": 5
}
