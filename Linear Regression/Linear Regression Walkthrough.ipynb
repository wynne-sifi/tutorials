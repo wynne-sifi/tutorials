{
 "cells": [
  {
   "cell_type": "markdown",
   "id": "ba8e907f",
   "metadata": {},
   "source": [
    "# Linear Regression Walkthrough\n",
    "\n",
    "In this workbook, we will go over linear regression using a fish dataset. Specifically we will look at the relationship between length and weight and will fit a linear model that could be used to predict new values of weight.\n",
    "\n",
    "I like to do **2 things** when I run linear regressions:\n",
    "- Qualitative component - where  I look at a plot\n",
    "- Quantitative component - where I look at the statistical output"
   ]
  },
  {
   "cell_type": "code",
   "execution_count": 1,
   "id": "71c0ce48",
   "metadata": {},
   "outputs": [],
   "source": [
    "import pandas as pd\n",
    "import numpy as np\n",
    "import matplotlib.pyplot as plt\n",
    "import seaborn as sns"
   ]
  },
  {
   "cell_type": "code",
   "execution_count": 4,
   "id": "8527f4e5",
   "metadata": {},
   "outputs": [],
   "source": [
    "df = pd.read_csv('/Users/wynnephilpott/Documents/Missing Pauldron/Notebooks/Misc Shit/Files/Fish.csv')"
   ]
  },
  {
   "cell_type": "code",
   "execution_count": 5,
   "id": "94b10fef",
   "metadata": {},
   "outputs": [
    {
     "data": {
      "text/html": [
       "<div>\n",
       "<style scoped>\n",
       "    .dataframe tbody tr th:only-of-type {\n",
       "        vertical-align: middle;\n",
       "    }\n",
       "\n",
       "    .dataframe tbody tr th {\n",
       "        vertical-align: top;\n",
       "    }\n",
       "\n",
       "    .dataframe thead th {\n",
       "        text-align: right;\n",
       "    }\n",
       "</style>\n",
       "<table border=\"1\" class=\"dataframe\">\n",
       "  <thead>\n",
       "    <tr style=\"text-align: right;\">\n",
       "      <th></th>\n",
       "      <th>Species</th>\n",
       "      <th>Weight</th>\n",
       "      <th>Length1</th>\n",
       "      <th>Length2</th>\n",
       "      <th>Length3</th>\n",
       "      <th>Height</th>\n",
       "      <th>Width</th>\n",
       "    </tr>\n",
       "  </thead>\n",
       "  <tbody>\n",
       "    <tr>\n",
       "      <th>0</th>\n",
       "      <td>Bream</td>\n",
       "      <td>242.0</td>\n",
       "      <td>23.2</td>\n",
       "      <td>25.4</td>\n",
       "      <td>30.0</td>\n",
       "      <td>11.5200</td>\n",
       "      <td>4.0200</td>\n",
       "    </tr>\n",
       "    <tr>\n",
       "      <th>1</th>\n",
       "      <td>Bream</td>\n",
       "      <td>290.0</td>\n",
       "      <td>24.0</td>\n",
       "      <td>26.3</td>\n",
       "      <td>31.2</td>\n",
       "      <td>12.4800</td>\n",
       "      <td>4.3056</td>\n",
       "    </tr>\n",
       "    <tr>\n",
       "      <th>2</th>\n",
       "      <td>Bream</td>\n",
       "      <td>340.0</td>\n",
       "      <td>23.9</td>\n",
       "      <td>26.5</td>\n",
       "      <td>31.1</td>\n",
       "      <td>12.3778</td>\n",
       "      <td>4.6961</td>\n",
       "    </tr>\n",
       "    <tr>\n",
       "      <th>3</th>\n",
       "      <td>Bream</td>\n",
       "      <td>363.0</td>\n",
       "      <td>26.3</td>\n",
       "      <td>29.0</td>\n",
       "      <td>33.5</td>\n",
       "      <td>12.7300</td>\n",
       "      <td>4.4555</td>\n",
       "    </tr>\n",
       "    <tr>\n",
       "      <th>4</th>\n",
       "      <td>Bream</td>\n",
       "      <td>430.0</td>\n",
       "      <td>26.5</td>\n",
       "      <td>29.0</td>\n",
       "      <td>34.0</td>\n",
       "      <td>12.4440</td>\n",
       "      <td>5.1340</td>\n",
       "    </tr>\n",
       "  </tbody>\n",
       "</table>\n",
       "</div>"
      ],
      "text/plain": [
       "  Species  Weight  Length1  Length2  Length3   Height   Width\n",
       "0   Bream   242.0     23.2     25.4     30.0  11.5200  4.0200\n",
       "1   Bream   290.0     24.0     26.3     31.2  12.4800  4.3056\n",
       "2   Bream   340.0     23.9     26.5     31.1  12.3778  4.6961\n",
       "3   Bream   363.0     26.3     29.0     33.5  12.7300  4.4555\n",
       "4   Bream   430.0     26.5     29.0     34.0  12.4440  5.1340"
      ]
     },
     "execution_count": 5,
     "metadata": {},
     "output_type": "execute_result"
    }
   ],
   "source": [
    "df.head()"
   ]
  },
  {
   "cell_type": "markdown",
   "id": "4abc3b92",
   "metadata": {},
   "source": [
    "Lenth2 is the horizontal length of the fish. This is what we will use as our X variable, also called our predictor. Weight will be our y variable. Lets visualize them to examine the relationship b/w the two."
   ]
  },
  {
   "cell_type": "code",
   "execution_count": 11,
   "id": "fc641e84",
   "metadata": {},
   "outputs": [
    {
     "data": {
      "text/plain": [
       "<AxesSubplot:xlabel='Length2', ylabel='Weight'>"
      ]
     },
     "execution_count": 11,
     "metadata": {},
     "output_type": "execute_result"
    },
    {
     "data": {
      "image/png": "[encoded data removed]",
      "text/plain": [
       "<Figure size 432x288 with 1 Axes>"
      ]
     },
     "metadata": {
      "needs_background": "light"
     },
     "output_type": "display_data"
    }
   ],
   "source": [
    "sns.regplot(x='Length2',y='Weight',data=df)"
   ]
  },
  {
   "cell_type": "markdown",
   "id": "3e9ee947",
   "metadata": {},
   "source": [
    "### Observations\n",
    "\n",
    "From the plot, there appears to be a **positive**, somewhat **linear** relationship b/w length and weight. There is some slight curvature (almost looks like a cuddlefish speaking of ocean-dwellers xD) which could be addressed with a quadratic model however, let's not complicate things for this first iteration. Lets fit a linear regression model to the data and print out the summary."
   ]
  },
  {
   "cell_type": "code",
   "execution_count": 12,
   "id": "975aaca6",
   "metadata": {},
   "outputs": [
    {
     "name": "stdout",
     "output_type": "stream",
     "text": [
      "                            OLS Regression Results                            \n",
      "==============================================================================\n",
      "Dep. Variable:                 Weight   R-squared:                       0.844\n",
      "Model:                            OLS   Adj. R-squared:                  0.843\n",
      "Method:                 Least Squares   F-statistic:                     848.5\n",
      "Date:                Tue, 19 Apr 2022   Prob (F-statistic):           3.40e-65\n",
      "Time:                        09:54:33   Log-Likelihood:                -1012.5\n",
      "No. Observations:                 159   AIC:                             2029.\n",
      "Df Residuals:                     157   BIC:                             2035.\n",
      "Df Model:                           1                                         \n",
      "Covariance Type:            nonrobust                                         \n",
      "==============================================================================\n",
      "                 coef    std err          t      P>|t|      [0.025      0.975]\n",
      "------------------------------------------------------------------------------\n",
      "const       -473.6490     31.980    -14.811      0.000    -536.816    -410.482\n",
      "Length2       30.6864      1.053     29.129      0.000      28.606      32.767\n",
      "==============================================================================\n",
      "Omnibus:                        7.397   Durbin-Watson:                   0.382\n",
      "Prob(Omnibus):                  0.025   Jarque-Bera (JB):                7.186\n",
      "Skew:                          -0.444   Prob(JB):                       0.0275\n",
      "Kurtosis:                       3.544   Cond. No.                         86.4\n",
      "==============================================================================\n",
      "\n",
      "Notes:\n",
      "[1] Standard Errors assume that the covariance matrix of the errors is correctly specified.\n"
     ]
    },
    {
     "name": "stderr",
     "output_type": "stream",
     "text": [
      "/Users/wynnephilpott/opt/anaconda3/lib/python3.9/site-packages/statsmodels/tsa/tsatools.py:142: FutureWarning: In a future version of pandas all arguments of concat except for the argument 'objs' will be keyword-only\n",
      "  x = pd.concat(x[::order], 1)\n"
     ]
    }
   ],
   "source": [
    "import statsmodels.api as sm\n",
    "\n",
    "\n",
    "X = sm.add_constant(df['Length2'])\n",
    "y = df['Weight']\n",
    "\n",
    "\n",
    "## Fit the model\n",
    "\n",
    "model = sm.OLS(y, X)\n",
    "results = model.fit()\n",
    "print(results.summary())"
   ]
  },
  {
   "cell_type": "markdown",
   "id": "41f30d99",
   "metadata": {},
   "source": [
    "## What am I looking at?\n",
    "\n",
    "Model summaries throw a TON of numbers at you but for me, there are just 3 things I care about:\n",
    "- **R-squared** (0.844)\n",
    "- **The variable coefficient** (30.686)\n",
    "- **P>|t| of the coefficient** (0.000)\n",
    " \n",
    " \n",
    "**R-squared** is defined as the percent of varitaion in y explained by X. What does this actually mean? It means that R-squared to some extent tells how well our model fits the data. Essentially 84% of fish weight can be predicted from just fish length. There is no specific criteria for what constitutes a good R-squared or a bad one. For me, anything at .4 and above are noteworthy and we really never see high R-squareds in the wild, especially when modelling human behavior. \n",
    "\n",
    "**The variable coefficient** defines the mapping, or the relationship b/w the predictor and the predicted. In this case we have: \n",
    "\n",
    "```Weight = -473.65 + 30.69*Length```\n",
    "Notice the **sign** of the variable coefficient, it is **positive** (+). Right away that tells us that as length goes up, weight goes up! If the sign was negative, then the reverese would be the case.\n",
    "\n",
    "**P>|t|** is the p-value of the coefficient. Mathematically, the p-value for each term tests the null hypothesis that the coefficient is equal to zero (no effect). In English, the p-value equalling 0.000 simply tells us that there IS an effect, the coefficient is valid! We can use it and doing so makes sense.\n",
    "\n",
    "Using the 3 together: We have a positive relationship b/w length and weight, this relationship is defined by the coefficient (30.686) and is statistically significant (p-value = 0.000) and finally, this relationship is strong, with length explaining 84.4% of the variation in weight."
   ]
  },
  {
   "cell_type": "markdown",
   "id": "eac74f1b",
   "metadata": {},
   "source": [
    "## Weight = -473.65 + 30.69*Length\n",
    "\n",
    "(for every unit increase in length, weight goes up by 30.69 grams)"
   ]
  }
 ],
 "metadata": {
  "kernelspec": {
   "display_name": "Python 3 (ipykernel)",
   "language": "python",
   "name": "python3"
  },
  "language_info": {
   "codemirror_mode": {
    "name": "ipython",
    "version": 3
   },
   "file_extension": ".py",
   "mimetype": "text/x-python",
   "name": "python",
   "nbconvert_exporter": "python",
   "pygments_lexer": "ipython3",
   "version": "3.9.7"
  }
 },
 "nbformat": 4,
 "nbformat_minor": 5
}
